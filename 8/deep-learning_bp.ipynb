{
 "cells": [
  {
   "cell_type": "markdown",
   "metadata": {},
   "source": [
    "**工程完整信息与更多演示：**\n",
    "- 博主个人主页：[三余知行官方网站](https://threefish.site/trend)\n",
    "- GitHub Repo：[ThreeFish-AI/deep-learning](https://github.com/ThreeFish-AI/deep-learning)"
   ]
  },
  {
   "cell_type": "markdown",
   "metadata": {},
   "source": [
    "# 误差逆传播"
   ]
  },
  {
   "cell_type": "code",
   "execution_count": 1,
   "metadata": {},
   "outputs": [],
   "source": [
    "import numpy as np"
   ]
  },
  {
   "cell_type": "markdown",
   "metadata": {},
   "source": [
    "## AddLayer"
   ]
  },
  {
   "cell_type": "code",
   "execution_count": 2,
   "metadata": {},
   "outputs": [],
   "source": [
    "class AddLayer:\n",
    "    \"\"\"\n",
    "    加法运算的前向传播与逆传播\n",
    "    \"\"\"\n",
    "\n",
    "    def __init__(self):\n",
    "        self.x = None\n",
    "        self.y = None\n",
    "\n",
    "    def forward(self, x, y):\n",
    "        \"\"\"\n",
    "        前向传播\n",
    "\n",
    "        Args:\n",
    "            x: 输入 x\n",
    "            y: 输入 y\n",
    "\n",
    "        Returns:\n",
    "            out: 输出\n",
    "        \"\"\"\n",
    "\n",
    "        out = x + y\n",
    "\n",
    "        return out\n",
    "\n",
    "    def backward(self, dout):\n",
    "        \"\"\"\n",
    "        逆传播\n",
    "\n",
    "        Args:\n",
    "            dout: 上游梯度\n",
    "\n",
    "        Returns:\n",
    "            dx: x 的梯度\n",
    "            dy: y 的梯度\n",
    "        \"\"\"\n",
    "\n",
    "        dx = dout * 1\n",
    "        dy = dout * 1\n",
    "\n",
    "        return dx, dy"
   ]
  },
  {
   "cell_type": "markdown",
   "metadata": {},
   "source": [
    "## MulLayer"
   ]
  },
  {
   "cell_type": "code",
   "execution_count": 3,
   "metadata": {},
   "outputs": [],
   "source": [
    "class MulLayer:\n",
    "    \"\"\"\n",
    "    乘法运算的前向传播与逆传播\n",
    "    \"\"\"\n",
    "\n",
    "    def __init__(self):\n",
    "        self.x = None\n",
    "        self.y = None\n",
    "\n",
    "    def forward(self, x, y):\n",
    "        \"\"\"\n",
    "        前向传播\n",
    "\n",
    "        Args:\n",
    "            x: 输入 x\n",
    "            y: 输入 y\n",
    "\n",
    "        Returns:\n",
    "            out: 输出\n",
    "        \"\"\"\n",
    "\n",
    "        self.x = x\n",
    "        self.y = y\n",
    "        out = x * y\n",
    "\n",
    "        return out\n",
    "\n",
    "    def backward(self, dout):\n",
    "        \"\"\"\n",
    "        逆传播\n",
    "\n",
    "        Args:\n",
    "            dout: 上游梯度\n",
    "\n",
    "        Returns:\n",
    "            dx: x 的梯度\n",
    "            dy: y 的梯度\n",
    "        \"\"\"\n",
    "\n",
    "        dx = dout * self.y\n",
    "        dy = dout * self.x\n",
    "\n",
    "        return dx, dy"
   ]
  },
  {
   "cell_type": "code",
   "execution_count": 4,
   "metadata": {},
   "outputs": [
    {
     "name": "stdout",
     "output_type": "stream",
     "text": [
      "500\n",
      "2 100 1\n"
     ]
    }
   ],
   "source": [
    "x1, x2, x3 = 100, 2, 300\n",
    "mul_layer = MulLayer()\n",
    "add_layer = AddLayer()\n",
    "\n",
    "# forward\n",
    "a = mul_layer.forward(x1, x2)\n",
    "y = add_layer.forward(a, x3)\n",
    "print(y)                # 500\n",
    "\n",
    "# backward\n",
    "da, dx3 = add_layer.backward(1)\n",
    "dx1, dx2 = mul_layer.backward(da)\n",
    "print(dx1, dx2, dx3)    # (x2, x1, 1) = (2, 100, 1)"
   ]
  },
  {
   "cell_type": "code",
   "execution_count": 5,
   "metadata": {},
   "outputs": [
    {
     "name": "stdout",
     "output_type": "stream",
     "text": [
      "[500 604 710]\n",
      "[2 3 4] [100 101 102] 1\n"
     ]
    }
   ],
   "source": [
    "x1, x2, x3 = np.array([100, 101, 102]), np.array([2, 3, 4]), np.array([300, 301, 302])\n",
    "mul_layer = MulLayer()\n",
    "add_layer = AddLayer()\n",
    "\n",
    "# forward\n",
    "a = mul_layer.forward(x1, x2)\n",
    "y = add_layer.forward(a, x3)\n",
    "print(y)                # 500\n",
    "\n",
    "# backward\n",
    "da, dx3 = add_layer.backward(1)\n",
    "dx1, dx2 = mul_layer.backward(da)\n",
    "print(dx1, dx2, dx3)    # (x2, x1, 1) = (2, 100, 1)"
   ]
  },
  {
   "cell_type": "markdown",
   "metadata": {},
   "source": [
    "## SoftmaxWithLoss"
   ]
  },
  {
   "cell_type": "code",
   "execution_count": 6,
   "metadata": {},
   "outputs": [],
   "source": [
    "def softmax(x):\n",
    "   \"\"\"归一化指数函数\"\"\"\n",
    "   if x.ndim == 2:\n",
    "       x = x.T\n",
    "       x = x - np.max(x, axis=0)\n",
    "       y = np.exp(x) / np.sum(np.exp(x), axis=0)\n",
    "       return y.T\n",
    "   x = x - np.max(x)  # 溢出对策\n",
    "   return np.exp(x) / np.sum(np.exp(x))"
   ]
  },
  {
   "cell_type": "code",
   "execution_count": 7,
   "metadata": {},
   "outputs": [],
   "source": [
    "def cross_entropy_error(y, t):\n",
    "    \"\"\"\n",
    "    交叉熵误差函数\n",
    "    Args:\n",
    "        y: 神经网络的输出\n",
    "        t: 监督数据\n",
    "    Returns:\n",
    "        float: 交叉熵误差\n",
    "    \"\"\"\n",
    "    # 监督数据是 one-hot-vector 的情况下，转换为正确解标签的索引\n",
    "    if t.size == y.size:\n",
    "        t = t.argmax(axis=1)\n",
    "    batch_size = y.shape[0]\n",
    "    return -np.sum(np.log(y[np.arange(batch_size), t] + 1e-7)) / batch_size"
   ]
  },
  {
   "cell_type": "code",
   "execution_count": 8,
   "metadata": {},
   "outputs": [],
   "source": [
    "class SoftmaxWithLoss:\n",
    "    def __init__(self):\n",
    "        self.loss = None\n",
    "        self.y = None  # softmax 的输出\n",
    "        self.t = None  # 监督数据\n",
    "\n",
    "    def forward(self, x, t):\n",
    "        \"\"\"\n",
    "        前向传播\n",
    "\n",
    "        Args:\n",
    "            x: 输入数据\n",
    "            t: 监督数据\n",
    "\n",
    "        Returns:\n",
    "            float: 损失\n",
    "        \"\"\"\n",
    "\n",
    "        self.t = t\n",
    "        self.y = softmax(x)\n",
    "        self.loss = cross_entropy_error(self.y, self.t)\n",
    "\n",
    "        return self.loss\n",
    "\n",
    "    def backward(self, dout=1):\n",
    "        \"\"\"\n",
    "        逆传播\n",
    "\n",
    "        Args:\n",
    "            dout: 上游梯度\n",
    "\n",
    "        Returns:\n",
    "            np.ndarray: 损失关于输入 x 的梯度\n",
    "        \"\"\"\n",
    "\n",
    "        batch_size = self.t.shape[0]\n",
    "        if self.t.size == self.y.size:  # 监督数据是one-hot-vector的情况\n",
    "            dx = (self.y - self.t) / batch_size\n",
    "        else:\n",
    "            dx = self.y.copy()\n",
    "            dx[np.arange(batch_size), self.t] -= 1\n",
    "            dx = dx / batch_size\n",
    "\n",
    "        return dx"
   ]
  },
  {
   "cell_type": "code",
   "execution_count": 9,
   "metadata": {},
   "outputs": [
    {
     "name": "stdout",
     "output_type": "stream",
     "text": [
      "Softmax Result:\n",
      " [[0.2312239  0.62853172 0.14024438]\n",
      " [0.1553624  0.4223188  0.4223188 ]]\n",
      "Cross Entropy Loss: 1.1631814594485623\n",
      "Gradient:\n",
      " [[-0.38438805  0.31426586  0.07012219]\n",
      " [ 0.0776812  -0.2888406   0.2111594 ]]\n"
     ]
    }
   ],
   "source": [
    "softmax_with_loss = SoftmaxWithLoss()\n",
    "\n",
    "# 示例数据\n",
    "a = np.array([[1.0, 2.0, 0.5], [0.0, 1.0, 1.0]])  # 未归一化输出\n",
    "t = np.array([[1, 0, 0], [0, 1, 0]])  # one-hot 编码标签\n",
    "\n",
    "# 前向传播\n",
    "loss = softmax_with_loss.forward(a, t)\n",
    "\n",
    "# 逆传播\n",
    "da = softmax_with_loss.backward()\n",
    "\n",
    "print(\"Softmax Result:\\n\", softmax_with_loss.y)\n",
    "print(\"Cross Entropy Loss:\", loss)\n",
    "print(\"Gradient:\\n\", da)"
   ]
  },
  {
   "cell_type": "markdown",
   "metadata": {
    "vscode": {
     "languageId": "plaintext"
    }
   },
   "source": [
    "**工程完整信息与更多演示：**\n",
    "- 博主个人主页：[三余知行官方网站](https://threefish.site/trend)\n",
    "- GitHub Repo：[ThreeFish-AI/deep-learning](https://github.com/ThreeFish-AI/deep-learning)"
   ]
  }
 ],
 "metadata": {
  "kernelspec": {
   "display_name": ".venv",
   "language": "python",
   "name": "python3"
  },
  "language_info": {
   "codemirror_mode": {
    "name": "ipython",
    "version": 3
   },
   "file_extension": ".py",
   "mimetype": "text/x-python",
   "name": "python",
   "nbconvert_exporter": "python",
   "pygments_lexer": "ipython3",
   "version": "3.10.11"
  }
 },
 "nbformat": 4,
 "nbformat_minor": 2
}
