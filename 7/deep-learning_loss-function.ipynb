{
 "cells": [
  {
   "cell_type": "markdown",
   "metadata": {},
   "source": [
    "**工程完整信息与更多演示：**\n",
    "- 博主个人主页：[三余知行官方网站](https://threefish.site/trend)\n",
    "- GitHub Repo：[ThreeFish-AI/deep-learning](https://github.com/ThreeFish-AI/deep-learning)"
   ]
  },
  {
   "cell_type": "markdown",
   "metadata": {},
   "source": [
    "# 损失函数"
   ]
  },
  {
   "cell_type": "code",
   "execution_count": 1,
   "metadata": {},
   "outputs": [
    {
     "name": "stdout",
     "output_type": "stream",
     "text": [
      "Mean Squared Error (MSE): 0.1875\n"
     ]
    }
   ],
   "source": [
    "import numpy as np\n",
    "\n",
    "def mean_squared_error(y, t):\n",
    "    \"\"\"\n",
    "    均方误差函数\n",
    "\n",
    "    Args:\n",
    "        y: 神经网络的输出\n",
    "        t: 监督数据\n",
    "\n",
    "    Returns:\n",
    "        float: 均方误差\n",
    "    \"\"\"\n",
    "\n",
    "    batch_size = y.shape[0]\n",
    "    return 0.5 * np.sum((y-t)**2) / batch_size\n",
    "\n",
    "# 示例数据\n",
    "y_true = np.array([2.5, 0.0, 2.0, 8.0]) # 真实值\n",
    "y_pred = np.array([3.0, -0.5, 2.0, 7.0]) # 预测值\n",
    "\n",
    "# 计算并输出均方误差\n",
    "mse = mean_squared_error(y_pred, y_true)\n",
    "print(\"Mean Squared Error (MSE):\", mse)\n",
    "# Mean Squared Error (MSE): 0.1875"
   ]
  },
  {
   "cell_type": "code",
   "execution_count": 3,
   "metadata": {},
   "outputs": [
    {
     "name": "stdout",
     "output_type": "stream",
     "text": [
      "Cross Entropy Loss: 0.6019862188296516\n"
     ]
    }
   ],
   "source": [
    "import numpy as np\n",
    "\n",
    "def cross_entropy_error(y, t):\n",
    "    \"\"\"\n",
    "    交叉熵误差函数\n",
    "\n",
    "    Args:\n",
    "        y: 神经网络的输出\n",
    "        t: 监督数据\n",
    "\n",
    "    Returns:\n",
    "        float: 交叉熵误差\n",
    "    \"\"\"\n",
    "\n",
    "    # 监督数据是 one-hot-vector 的情况下，转换为正确解标签的索引\n",
    "    if t.size == y.size:\n",
    "        t = t.argmax(axis=1)\n",
    "\n",
    "    batch_size = y.shape[0]\n",
    "    return -np.sum(np.log(y[np.arange(batch_size), t] + 1e-7)) / batch_size\n",
    "\n",
    "# 示例数据\n",
    "y_true = np.array([[0, 0, 1, 0, 0, 0, 0, 0, 0, 0], [\n",
    "                  1, 0, 0, 0, 0, 0, 0, 0, 0, 0]])  # 真实值\n",
    "y_pred = np.array([[0.1, 0.05, 0.6, 0.0, 0.05, 0.1, 0.0, 0.1, 0.0, 0.0], [\n",
    "                  0.5, 0.05, 0.2, 0.0, 0.05, 0.1, 0.0, 0.1, 0.0, 0.0]])  # 预测值\n",
    "\n",
    "# 计算并输出均方误差\n",
    "loss = cross_entropy_error(y_pred, y_true)\n",
    "print(\"Cross Entropy Loss:\", loss)\n",
    "# Cross Entropy Loss: 0.6019862188296516"
   ]
  },
  {
   "cell_type": "code",
   "execution_count": 4,
   "metadata": {},
   "outputs": [
    {
     "name": "stdout",
     "output_type": "stream",
     "text": [
      "Mean Absolute Error (MAE): 0.3666666666666667\n"
     ]
    }
   ],
   "source": [
    "import numpy as np\n",
    "\n",
    "def mean_absolute_error(y_true, y_pred):\n",
    "    \"\"\"\n",
    "    计算绝对误差（Mean Absolute Error, MAE）\n",
    "\n",
    "    Args:\n",
    "        y_true : np.array，真实值的数组\n",
    "        y_pred : np.array，预测值的数组\n",
    "\n",
    "    Returns:\n",
    "        float: 计算得到的绝对误差（MAE）\n",
    "    \"\"\"\n",
    "\n",
    "    # 计算绝对误差\n",
    "    absolute_errors = np.abs(y_true - y_pred)  # 计算每个样本的绝对误差\n",
    "    mae = np.mean(absolute_errors)  # 计算平均绝对误差\n",
    "    return mae\n",
    "\n",
    "# 示例数据\n",
    "y_true = np.array([3.0, -0.5, 2.0])  # 真实值\n",
    "y_pred = np.array([2.5, 0.0, 2.1])  # 预测值\n",
    "\n",
    "# 计算并输出绝对误差\n",
    "mae = mean_absolute_error(y_true, y_pred)\n",
    "print(\"Mean Absolute Error (MAE):\", mae)\n",
    "# Mean Absolute Error (MAE): 0.3666666666666667"
   ]
  },
  {
   "cell_type": "code",
   "execution_count": 5,
   "metadata": {},
   "outputs": [
    {
     "name": "stdout",
     "output_type": "stream",
     "text": [
      "Hinge Loss: 0.19999999999999998\n"
     ]
    }
   ],
   "source": [
    "import numpy as np\n",
    "\n",
    "def hinge_loss(y_true, y_pred):\n",
    "    \"\"\"\n",
    "    计算 Hinge Loss\n",
    "\n",
    "    参数：\n",
    "        y_true: np.array，真实类别标签（-1 或 1）\n",
    "        y_pred: np.array，预测值（可以是与真实值相同的分类数值）\n",
    "\n",
    "    返回：\n",
    "        float: 计算得到的 Hinge Loss\n",
    "    \"\"\"\n",
    "    # 确保 y_true 值为 -1 或 1\n",
    "    assert np.all(np.isin(y_true, [-1, 1])), \"y_true must contain only -1 or 1\"\n",
    "\n",
    "    # 计算 Hinge Loss\n",
    "    losses = np.maximum(0, 1 - y_true * y_pred)  # Hinge Loss\n",
    "    return np.mean(losses)  # 计算平均 Hinge Loss\n",
    "\n",
    "\n",
    "# 示例数据\n",
    "y_true = np.array([1, -1, 1])  # 真实标签\n",
    "y_pred = np.array([0.8, -0.6, 1.2])  # 预测值\n",
    "\n",
    "# 计算并输出 Hinge Loss\n",
    "loss = hinge_loss(y_true, y_pred)\n",
    "print(\"Hinge Loss:\", loss)\n",
    "# Hinge Loss: 0.19999999999999998"
   ]
  },
  {
   "cell_type": "code",
   "execution_count": 6,
   "metadata": {},
   "outputs": [
    {
     "name": "stdout",
     "output_type": "stream",
     "text": [
      "Kullback-Leibler Divergence (KL Divergence): 0.020135513550688863\n"
     ]
    }
   ],
   "source": [
    "import numpy as np\n",
    "\n",
    "def kl_divergence(p, q):\n",
    "    \"\"\"\n",
    "    计算 Kullback-Leibler Divergence (KL Divergence)\n",
    "\n",
    "    Args:\n",
    "        p : np.array，源分布的概率值（必须为非负且总和为 1）\n",
    "        q : np.array，目标分布的概率值（必须为非负且总和为 1）\n",
    "\n",
    "    Returns:\n",
    "        float: 计算得到的 KL Divergence\n",
    "    \"\"\"\n",
    "\n",
    "    # 确保输入分布为概率分布（非负且总和为 1）\n",
    "    assert np.all(p >= 0) and np.isclose(np.sum(p), 1), \"p must be a valid probability distribution.\"\n",
    "    assert np.all(q >= 0) and np.isclose(np.sum(q), 1), \"q must be a valid probability distribution.\"\n",
    "\n",
    "    # 计算 KL Divergence\n",
    "    # 使用 np.where 来避免对 q 中为 0 的值进行 log 计算\n",
    "    divergence = np.sum(np.where(p != 0, p * np.log(p / q), 0))  # 对于 p=0 的项不计算\n",
    "    return divergence\n",
    "\n",
    "# 示例数据\n",
    "p = np.array([0.4, 0.6])  # 源分布\n",
    "q = np.array([0.5, 0.5])  # 目标分布\n",
    "\n",
    "# 计算并输出 KL Divergence\n",
    "kl = kl_divergence(p, q)\n",
    "print(\"Kullback-Leibler Divergence (KL Divergence):\", kl)\n",
    "# Kullback-Leibler Divergence (KL Divergence): 0.020135513550688863"
   ]
  },
  {
   "cell_type": "markdown",
   "metadata": {
    "vscode": {
     "languageId": "plaintext"
    }
   },
   "source": [
    "**工程完整信息与更多演示：**\n",
    "- 博主个人主页：[三余知行官方网站](https://threefish.site/trend)\n",
    "- GitHub Repo：[ThreeFish-AI/deep-learning](https://github.com/ThreeFish-AI/deep-learning)"
   ]
  }
 ],
 "metadata": {
  "kernelspec": {
   "display_name": ".venv",
   "language": "python",
   "name": "python3"
  },
  "language_info": {
   "codemirror_mode": {
    "name": "ipython",
    "version": 3
   },
   "file_extension": ".py",
   "mimetype": "text/x-python",
   "name": "python",
   "nbconvert_exporter": "python",
   "pygments_lexer": "ipython3",
   "version": "3.10.11"
  }
 },
 "nbformat": 4,
 "nbformat_minor": 2
}
