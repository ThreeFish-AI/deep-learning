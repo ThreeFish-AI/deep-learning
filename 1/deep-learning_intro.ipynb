{
 "cells": [
  {
   "cell_type": "markdown",
   "metadata": {},
   "source": [
    "**工程完整信息与更多演示：**\n",
    "- 博主个人主页：[三余知行官方网站](https://threefish.site/trend)\n",
    "- GitHub Repo：[ThreeFish-AI/deep-learning](https://github.com/ThreeFish-AI/deep-learning)"
   ]
  },
  {
   "cell_type": "markdown",
   "metadata": {},
   "source": [
    "# 前向传播演示"
   ]
  },
  {
   "cell_type": "code",
   "execution_count": 1,
   "metadata": {},
   "outputs": [
    {
     "name": "stdout",
     "output_type": "stream",
     "text": [
      "[[0.7501134 ]\n",
      " [0.7740691 ]\n",
      " [0.78391515]\n",
      " [0.79889097]]\n"
     ]
    }
   ],
   "source": [
    "import numpy as np\n",
    "\n",
    "# 激活函数\n",
    "def sigmoid(x):\n",
    "    return 1 / (1 + np.exp(-x))\n",
    "\n",
    "# 前向传播\n",
    "def forward(X, W1, b1, W2, b2):\n",
    "    hidden_layer = sigmoid(np.dot(X, W1) + b1)\n",
    "    output_layer = sigmoid(np.dot(hidden_layer, W2) + b2)\n",
    "    return output_layer\n",
    "\n",
    "# 初始化权重和偏置\n",
    "np.random.seed(42)\n",
    "W1 = np.random.rand(2, 2)\n",
    "b1 = np.random.rand(2)\n",
    "W2 = np.random.rand(2, 1)\n",
    "b2 = np.random.rand(1)\n",
    "\n",
    "# 输入数据\n",
    "X_data = np.array([[0, 0], [0, 1], [1, 0], [1, 1]])\n",
    "\n",
    "# 运行前向传播\n",
    "output = forward(X_data, W1, b1, W2, b2)\n",
    "print(output)"
   ]
  },
  {
   "cell_type": "markdown",
   "metadata": {},
   "source": [
    "# 图像识别演示"
   ]
  },
  {
   "cell_type": "code",
   "execution_count": 3,
   "metadata": {},
   "outputs": [
    {
     "name": "stderr",
     "output_type": "stream",
     "text": [
      "/Users/cm.huang/Documents/workspace/projects/aurelius/deep-learning/.venv/lib/python3.10/site-packages/keras/src/layers/convolutional/base_conv.py:107: UserWarning: Do not pass an `input_shape`/`input_dim` argument to a layer. When using Sequential models, prefer using an `Input(shape)` object as the first layer in the model instead.\n",
      "  super().__init__(activity_regularizer=activity_regularizer, **kwargs)\n"
     ]
    }
   ],
   "source": [
    "from keras.models import Sequential\n",
    "from keras.layers import Conv2D, MaxPooling2D, Flatten, Dense\n",
    "\n",
    "# 构建模型\n",
    "# 创建一个顺序模型实例。\n",
    "model = Sequential()\n",
    "\n",
    "# 添加卷积层\n",
    "# `Conv2D(32, (3, 3), ...)`：添加一个卷积层，使用 32 个过滤器，每个过滤器的大小为 3x3。\n",
    "# `activation='relu'`：使用 ReLU 激活函数，使非线性特性增强。\n",
    "# `input_shape=(64, 64, 3)`：输入图像的形状为 64x64 像素，3 个通道（RGB 图像）。\n",
    "model.add(Conv2D(32, (3, 3), activation='relu', input_shape=(64, 64, 3)))\n",
    "\n",
    "# 添加池化层\n",
    "# `MaxPooling2D(pool_size=(2, 2))`：添加一个 2x2 的池化层，用于减小特征图的尺寸，从而减少计算量和降低过拟合风险。\n",
    "model.add(MaxPooling2D(pool_size=(2, 2)))\n",
    "\n",
    "# 展平层\n",
    "# `Flatten()`：将卷积和池化层的输出展平成一维数组，为全连接层做好准\n",
    "model.add(Flatten())\n",
    "\n",
    "# 添加全连接层\n",
    "# `Dense(units=128, activation='relu')`：添加一个全连接层，包含 128 个神经元，使用 ReLU 激活函数。\n",
    "model.add(Dense(units=128, activation='relu'))\n",
    "\n",
    "# 添加输出层\n",
    "# `Dense(units=10, activation='softmax')`：添加一个输出层，包含 10 个神经元（适用于处理 10 个类别），使用 Softmax 激活函数将输出转换为概率分布。\n",
    "model.add(Dense(units=10, activation='softmax'))\n",
    "\n",
    "# 编译模型\n",
    "\n",
    "# `optimizer='adam'`：使用 Adam 优化器，自动调整学习率，适合大多数情况。\n",
    "# `loss='categorical_crossentropy'`：使用分类交叉熵损失函数，适用于多类别分类任务。\n",
    "# `metrics=['accuracy']`：设置评估指标为准确率，以便在训练和测试时监测模型表现。\n",
    "model.compile(optimizer='adam', loss='categorical_crossentropy', metrics=['accuracy'])"
   ]
  },
  {
   "cell_type": "markdown",
   "metadata": {},
   "source": [
    "**工程完整信息与更多演示：**\n",
    "- 博主个人主页：[三余知行官方网站](https://threefish.site/trend)\n",
    "- GitHub Repo：[ThreeFish-AI/deep-learning](https://github.com/ThreeFish-AI/deep-learning)"
   ]
  }
 ],
 "metadata": {
  "kernelspec": {
   "display_name": ".venv",
   "language": "python",
   "name": "python3"
  },
  "language_info": {
   "codemirror_mode": {
    "name": "ipython",
    "version": 3
   },
   "file_extension": ".py",
   "mimetype": "text/x-python",
   "name": "python",
   "nbconvert_exporter": "python",
   "pygments_lexer": "ipython3",
   "version": "3.10.11"
  }
 },
 "nbformat": 4,
 "nbformat_minor": 2
}
