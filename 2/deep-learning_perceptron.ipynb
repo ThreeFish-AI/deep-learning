{
 "cells": [
  {
   "cell_type": "markdown",
   "metadata": {},
   "source": [
    "**工程完整信息与更多演示：**\n",
    "- 博主个人主页：[三余知行官方网站](https://threefish.site/trend)\n",
    "- GitHub Repo：[ThreeFish-AI/deep-learning](https://github.com/ThreeFish-AI/deep-learning)"
   ]
  },
  {
   "cell_type": "markdown",
   "metadata": {},
   "source": [
    "# 逻辑运算"
   ]
  },
  {
   "cell_type": "code",
   "execution_count": 2,
   "metadata": {},
   "outputs": [],
   "source": [
    "import numpy as np"
   ]
  },
  {
   "cell_type": "code",
   "execution_count": 3,
   "metadata": {},
   "outputs": [
    {
     "name": "stdout",
     "output_type": "stream",
     "text": [
      "测试单组 (x1, x2) 的与运算：\n",
      "0\n",
      "0\n",
      "0\n",
      "1\n",
      "测试多组 (x1, x2) 的与运算：\n",
      "[0 0 0 1]\n"
     ]
    }
   ],
   "source": [
    "def AND(x1, x2):\n",
    "    \"\"\"\n",
    "    感知机 AND Gate 计算逻辑\n",
    "    \"\"\"\n",
    "    x = np.array([x1, x2]).T\n",
    "    w = np.array([0.5, 0.5])\n",
    "    b = -0.7\n",
    "    tmp = np.dot(x, w) + b  # 等效于 x1 * w1 + x2 * w2 + b\n",
    "    return np.where(tmp <= 0, 0, 1)\n",
    "\n",
    "print('测试单组 (x1, x2) 的与运算：')\n",
    "print(AND(0, 0))  # 0\n",
    "print(AND(1, 0))  # 0\n",
    "print(AND(0, 1))  # 0\n",
    "print(AND(1, 1))  # 1\n",
    "\n",
    "print('测试多组 (x1, x2) 的与运算：')\n",
    "x1 = np.array([0, 1, 0, 1])\n",
    "x2 = np.array([0, 0, 1, 1])\n",
    "print(AND(x1, x2))  # 0,0,0,1"
   ]
  },
  {
   "cell_type": "code",
   "execution_count": 4,
   "metadata": {},
   "outputs": [
    {
     "name": "stdout",
     "output_type": "stream",
     "text": [
      "测试单组 (x1, x2) 的与非运算：\n",
      "1\n",
      "1\n",
      "1\n",
      "0\n",
      "测试多组 (x1, x2) 的与非运算：\n",
      "[1 1 1 0]\n"
     ]
    }
   ],
   "source": [
    "def NAND(x1, x2):\n",
    "    \"\"\"\n",
    "    使用 numpy 实现（可批量计算的）感知机 NAND Gate 计算逻辑\n",
    "    \"\"\"\n",
    "    x = np.array([x1, x2]).T\n",
    "    w = np.array([-0.5, -0.5])\n",
    "    b = 0.7\n",
    "    tmp = np.dot(x, w) + b  # 等效于 x1 * w1 + x2 * w2 + b\n",
    "    return np.where(tmp <= 0, 0, 1)\n",
    "\n",
    "print('测试单组 (x1, x2) 的与非运算：')\n",
    "print(NAND(0, 0))  # 1\n",
    "print(NAND(1, 0))  # 1\n",
    "print(NAND(0, 1))  # 1\n",
    "print(NAND(1, 1))  # 0\n",
    "\n",
    "print('测试多组 (x1, x2) 的与非运算：')\n",
    "x1 = np.array([0, 1, 0, 1])\n",
    "x2 = np.array([0, 0, 1, 1])\n",
    "print(NAND(x1, x2))  # 1,1,1,0"
   ]
  },
  {
   "cell_type": "code",
   "execution_count": 5,
   "metadata": {},
   "outputs": [
    {
     "name": "stdout",
     "output_type": "stream",
     "text": [
      "测试单组 (x1, x2) 的或运算：\n",
      "0\n",
      "1\n",
      "1\n",
      "1\n",
      "测试多组 (x1, x2) 的或运算：\n",
      "[0 1 1 1]\n"
     ]
    }
   ],
   "source": [
    "def OR(x1, x2):\n",
    "    \"\"\"\n",
    "    使用 numpy 实现（可批量计算的）感知机 OR Gate 计算逻辑\n",
    "    \"\"\"\n",
    "    x = np.array([x1, x2]).T\n",
    "    w = np.array([0.5, 0.5])\n",
    "    b = -0.2\n",
    "    tmp = np.dot(x, w) + b  # 等效于 x1 * w1 + x2 * w2 + b\n",
    "    return np.where(tmp <= 0, 0, 1)\n",
    "\n",
    "print('测试单组 (x1, x2) 的或运算：')\n",
    "print(OR(0, 0))  # 0\n",
    "print(OR(1, 0))  # 1\n",
    "print(OR(0, 1))  # 1\n",
    "print(OR(1, 1))  # 1\n",
    "\n",
    "print('测试多组 (x1, x2) 的或运算：')\n",
    "x1 = np.array([0, 1, 0, 1])\n",
    "x2 = np.array([0, 0, 1, 1])\n",
    "print(OR(x1, x2))  # 0,1,1,1"
   ]
  },
  {
   "cell_type": "code",
   "execution_count": 6,
   "metadata": {},
   "outputs": [
    {
     "name": "stdout",
     "output_type": "stream",
     "text": [
      "测试单组 (x1, x2) 的异或运算：\n",
      "0\n",
      "1\n",
      "1\n",
      "0\n",
      "测试多组 (x1, x2) 的异或运算：\n",
      "[0 1 1 0]\n"
     ]
    }
   ],
   "source": [
    "def XOR(x1, x2):\n",
    "    \"\"\"\n",
    "    使用 与、或、非 逻辑运算组合实现感知机 XOR gate 计算逻辑\n",
    "    \"\"\"\n",
    "    s1 = NAND(x1, x2)\n",
    "    s2 = OR(x1, x2)\n",
    "    return AND(s1, s2)\n",
    "\n",
    "print('测试单组 (x1, x2) 的异或运算：')\n",
    "print(XOR(0, 0))  # 0\n",
    "print(XOR(1, 0))  # 1\n",
    "print(XOR(0, 1))  # 1\n",
    "print(XOR(1, 1))  # 0\n",
    "\n",
    "print('测试多组 (x1, x2) 的异或运算：')\n",
    "x1 = np.array([0, 1, 0, 1])\n",
    "x2 = np.array([0, 0, 1, 1])\n",
    "print(XOR(x1, x2))  # 0,1,1,0"
   ]
  },
  {
   "cell_type": "markdown",
   "metadata": {},
   "source": [
    "# 感知机训练"
   ]
  },
  {
   "cell_type": "code",
   "execution_count": 8,
   "metadata": {},
   "outputs": [
    {
     "name": "stdout",
     "output_type": "stream",
     "text": [
      "预测结果： [0, 0, 0, 1]\n"
     ]
    }
   ],
   "source": [
    "import numpy as np\n",
    "\n",
    "class Perceptron:\n",
    "    def __init__(self, learning_rate=0.01, n_iterations=1000):\n",
    "        \"\"\"\n",
    "        初始化学习率、迭代次数、权重和偏置。\n",
    "        \"\"\"\n",
    "\n",
    "        self.learning_rate = learning_rate\n",
    "        self.n_iterations = n_iterations\n",
    "        self.weights = None\n",
    "        self.bias = None\n",
    "\n",
    "    def fit(self, X, y):\n",
    "        \"\"\"\n",
    "        训练模型。对每个训练样本，计算预测值并更新权重和偏置。\n",
    "        \"\"\"\n",
    "\n",
    "        # 初始化权重和偏置\n",
    "        n_samples, n_features = X.shape\n",
    "        self.weights = np.zeros(n_features)\n",
    "        self.bias = 0\n",
    "\n",
    "        # 训练过程\n",
    "        for _ in range(self.n_iterations):\n",
    "            for idx, x_i in enumerate(X):\n",
    "                # 计算加权和并应用阶跃函数\n",
    "                linear_output = np.dot(x_i, self.weights) + self.bias\n",
    "                y_predicted = self.activation_function(linear_output)\n",
    "\n",
    "                # 更新规则\n",
    "                update = self.learning_rate * (y[idx] - y_predicted)\n",
    "                self.weights += update * x_i\n",
    "                self.bias += update\n",
    "\n",
    "    def activation_function(self, x):\n",
    "        \"\"\"\n",
    "        使用阶跃函数作为激活函数。\n",
    "        \"\"\"\n",
    "        return 1 if x >= 0 else 0\n",
    "\n",
    "    def predict(self, X):\n",
    "        \"\"\"\n",
    "        根据训练好的权重和偏置，返回预测结果。\n",
    "        \"\"\"\n",
    "        linear_output = np.dot(X, self.weights) + self.bias\n",
    "        return [self.activation_function(i) for i in linear_output]\n",
    "\n",
    "# 示例数据：逻辑与操作的训练数据\n",
    "X = np.array([[0, 0], [0, 1], [1, 0], [1, 1]])\n",
    "y = np.array([0, 0, 0, 1])  # 逻辑与的标签\n",
    "\n",
    "# 创建感知机实例并训练\n",
    "perceptron = Perceptron(learning_rate=0.1, n_iterations=10)\n",
    "perceptron.fit(X, y)\n",
    "\n",
    "# 进行预测\n",
    "predictions = perceptron.predict(X)\n",
    "print(\"预测结果：\", predictions)\n",
    "# 预测结果： [0, 0, 0, 1]"
   ]
  },
  {
   "cell_type": "markdown",
   "metadata": {},
   "source": [
    "**工程完整信息与更多演示：**\n",
    "- 博主个人主页：[三余知行官方网站](https://threefish.site/trend)\n",
    "- GitHub Repo：[ThreeFish-AI/deep-learning](https://github.com/ThreeFish-AI/deep-learning)"
   ]
  }
 ],
 "metadata": {
  "kernelspec": {
   "display_name": ".venv",
   "language": "python",
   "name": "python3"
  },
  "language_info": {
   "codemirror_mode": {
    "name": "ipython",
    "version": 3
   },
   "file_extension": ".py",
   "mimetype": "text/x-python",
   "name": "python",
   "nbconvert_exporter": "python",
   "pygments_lexer": "ipython3",
   "version": "3.10.11"
  }
 },
 "nbformat": 4,
 "nbformat_minor": 2
}
